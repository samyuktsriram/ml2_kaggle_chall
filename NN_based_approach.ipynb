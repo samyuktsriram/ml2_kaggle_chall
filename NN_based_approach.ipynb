{
  "nbformat": 4,
  "nbformat_minor": 0,
  "metadata": {
    "colab": {
      "provenance": []
    },
    "kernelspec": {
      "name": "python3",
      "display_name": "Python 3"
    },
    "language_info": {
      "name": "python"
    }
  },
  "cells": [
    {
      "cell_type": "code",
      "execution_count": 1,
      "metadata": {
        "colab": {
          "base_uri": "https://localhost:8080/"
        },
        "id": "BexEPfhwDsmZ",
        "outputId": "ea21008c-21b8-4012-885f-fd01e59a91ab"
      },
      "outputs": [
        {
          "output_type": "stream",
          "name": "stdout",
          "text": [
            "Archive:  dsb-24-german-credit.zip\n",
            "  inflating: german_credit_test.csv  \n",
            "  inflating: german_credit_test_submission.csv  \n",
            "  inflating: german_credit_train.csv  \n"
          ]
        }
      ],
      "source": [
        "!unzip dsb-24-german-credit.zip"
      ]
    },
    {
      "cell_type": "code",
      "source": [
        "numerical_cols = [\n",
        "    'LoanDuration',\n",
        "    'LoanAmount',\n",
        "    'InstallmentPercent',\n",
        "    'CurrentResidenceDuration',\n",
        "    'Age',\n",
        "    'ExistingCreditsCount',\n",
        "]\n",
        "categorical_cols = [\n",
        "  'CheckingStatus',\n",
        "  'CreditHistory',\n",
        " 'LoanPurpose',\n",
        " 'ExistingSavings',\n",
        " 'EmploymentDuration',\n",
        " 'Sex',\n",
        " 'OthersOnLoan',\n",
        " 'OwnsProperty',\n",
        " 'InstallmentPlans',\n",
        " 'Housing',\n",
        " 'Job',\n",
        " 'Dependents',\n",
        " 'Telephone',\n",
        " 'ForeignWorker',]"
      ],
      "metadata": {
        "id": "TVX5TfLGER3s"
      },
      "execution_count": 2,
      "outputs": []
    },
    {
      "cell_type": "code",
      "source": [
        "import pandas as pd\n",
        "df = pd.read_csv('german_credit_train.csv')\n",
        "\n",
        "import pandas as pd\n",
        "import numpy as np\n",
        "from sklearn.model_selection import train_test_split, GridSearchCV\n",
        "from sklearn.preprocessing import StandardScaler, OneHotEncoder, LabelEncoder\n",
        "from sklearn.impute import SimpleImputer\n",
        "from sklearn.pipeline import Pipeline\n",
        "from sklearn.compose import ColumnTransformer\n",
        "from xgboost import XGBClassifier, XGBRegressor\n",
        "from sklearn.metrics import accuracy_score, mean_squared_error\n",
        "\n",
        "# Load dataset (replace with actual data)\n",
        "\n",
        "# Define target and features\n",
        "target = \"Risk\"\n",
        "X = df.drop(columns=[target])\n",
        "y = df[target]\n",
        "\n",
        "# Binary encode target variable if classification\n",
        "y = LabelEncoder().fit_transform(y) if y.nunique() == 2 else y\n",
        "\n",
        "# Identify categorical and numerical columns\n",
        "cat_cols = categorical_cols\n",
        "num_cols = numerical_cols\n",
        "\n",
        "# Preprocessing for numerical data\n",
        "num_transformer = Pipeline([\n",
        "    #('imputer', SimpleImputer(strategy='mean')),\n",
        "    ('scaler', StandardScaler())\n",
        "])\n",
        "\n",
        "# Preprocessing for categorical data\n",
        "cat_transformer = Pipeline([\n",
        "    #('imputer', SimpleImputer(strategy='most_frequent')),\n",
        "    ('onehot', OneHotEncoder(handle_unknown='ignore'))\n",
        "])\n",
        "\n",
        "# Combine preprocessors in a column transformer\n",
        "preprocessor = ColumnTransformer([\n",
        "    ('num', num_transformer, num_cols),\n",
        "    ('cat', cat_transformer, cat_cols)\n",
        "])\n"
      ],
      "metadata": {
        "id": "R0Lil3TeDz3d"
      },
      "execution_count": 3,
      "outputs": []
    },
    {
      "cell_type": "code",
      "source": [
        "import torch\n",
        "import torch.nn as nn\n",
        "import torch.optim as optim\n",
        "from torch.utils.data import Dataset, DataLoader\n",
        "from sklearn.pipeline import Pipeline\n",
        "from sklearn.preprocessing import StandardScaler\n",
        "from sklearn.model_selection import train_test_split\n",
        "import numpy as np\n"
      ],
      "metadata": {
        "id": "g9Ad9MBVEjl8"
      },
      "execution_count": 4,
      "outputs": []
    },
    {
      "cell_type": "code",
      "source": [
        "# Split into train and test\n",
        "X_train, X_test, y_train, y_test = train_test_split(X, y, test_size=0.2, random_state=42)\n",
        "\n",
        "X_train, y_train = X,y\n",
        "\n",
        "loan_amounts_train = np.array(X_train['LoanAmount'])\n",
        "loan_amounts_test = np.array(X_test['LoanAmount'])\n",
        "X_train = preprocessor.fit_transform(X_train)\n",
        "X_test = preprocessor.transform(X_test)\n"
      ],
      "metadata": {
        "id": "DhMKK79UEkxJ"
      },
      "execution_count": 63,
      "outputs": []
    },
    {
      "cell_type": "code",
      "source": [
        "# PyTorch Dataset class\n",
        "class CustomDataset(Dataset):\n",
        "    def __init__(self, X, y, loan_amounts):\n",
        "        self.X = torch.tensor(X, dtype=torch.float32)\n",
        "        self.y = torch.tensor(y, dtype=torch.float32).unsqueeze(1)\n",
        "        self.loan_amounts = torch.tensor(loan_amounts, dtype=torch.float32).unsqueeze(1)\n",
        "\n",
        "    def __len__(self):\n",
        "        return len(self.X)\n",
        "\n",
        "    def __getitem__(self, idx):\n",
        "        return self.X[idx], self.y[idx], self.loan_amounts[idx]\n",
        "\n",
        "  # Load data into PyTorch Dataloader\n",
        "train_dataset = CustomDataset(X_train, y_train, loan_amounts_train)\n",
        "test_dataset = CustomDataset(X_test, y_test, loan_amounts_test)\n",
        "\n",
        "train_loader = DataLoader(train_dataset, batch_size=32, shuffle=True)\n",
        "test_loader = DataLoader(test_dataset, batch_size=32, shuffle=False)\n"
      ],
      "metadata": {
        "id": "qguXErbOE--4"
      },
      "execution_count": 64,
      "outputs": []
    },
    {
      "cell_type": "code",
      "source": [
        "# Define a simple feedforward network\n",
        "class BinaryClassifier(nn.Module):\n",
        "    def __init__(self, input_dim):\n",
        "        super(BinaryClassifier, self).__init__()\n",
        "        self.fc = nn.Sequential(\n",
        "            nn.Linear(input_dim, 32),\n",
        "            nn.ReLU(),\n",
        "            nn.Linear(32, 16),\n",
        "            nn.ReLU(),\n",
        "            nn.Dropout(0.2),\n",
        "            nn.Linear(16, 12),\n",
        "            nn.ReLU(),\n",
        "            nn.Linear(12, 8),\n",
        "            nn.ReLU(),\n",
        "            nn.Linear(8, 1),\n",
        "            nn.Sigmoid()\n",
        "        )\n",
        "\n",
        "    def forward(self, x):\n",
        "        return self.fc(x)"
      ],
      "metadata": {
        "id": "hrvZmTQKFKn-"
      },
      "execution_count": 65,
      "outputs": []
    },
    {
      "cell_type": "code",
      "source": [
        "from sklearn.preprocessing import MinMaxScaler\n",
        "# Custom Cost Function based on Loan Amount\n",
        "def compute_costs(loan_amount):\n",
        "    #loan_amount = StandardScaler().fit_transform(loan_amount.reshape(-1, 1))\n",
        "    #loan_amount = loan_amount.flatten()\n",
        "    loan_amount = MinMaxScaler().fit_transform(loan_amount.reshape(-1, 1))\n",
        "    loan_amount = loan_amount.flatten()\n",
        "    return {\n",
        "        'Risk_No Risk': 5.0 + 0.6 * loan_amount, #'Risk_No Risk': 5, # 'Risk_No Risk': 5.0 + 0.6 * loan_amount,\n",
        "        'No Risk_No Risk': 1.0 - 0.05 * loan_amount, #'No Risk_No Risk': -1, # 'No Risk_No Risk': 1.0 - 0.05 * loan_amount,\n",
        "        'Risk_Risk': 1.0,\n",
        "        'No Risk_Risk': 1.0\n",
        "    }\n",
        "\n",
        "class LoanWeightedLoss(nn.Module):\n",
        "    def __init__(self):\n",
        "        super(LoanWeightedLoss, self).__init__()\n",
        "        self.bce = nn.BCELoss(reduction='none')\n",
        "\n",
        "    def forward(self, outputs, targets, loan_amounts):\n",
        "        outputs = torch.clamp(outputs, 1e-7, 1 - 1e-7)  # Prevent log(0) errors\n",
        "        costs = compute_costs(loan_amounts)\n",
        "\n",
        "        real_prop = {'Risk': 0.02, 'No Risk': 0.98}\n",
        "        train_prop = {'Risk': 1/3, 'No Risk': 2/3}\n",
        "        custom_weight = {\n",
        "            'Risk': real_prop['Risk'] / train_prop['Risk'],\n",
        "            'No Risk': real_prop['No Risk'] / train_prop['No Risk']\n",
        "        }\n",
        "\n",
        "        base_loss = self.bce(outputs, targets)\n",
        "\n",
        "        weight_matrix = (\n",
        "            (targets == 1) * custom_weight['Risk'] *\n",
        "            ((outputs >= 0.5) * costs['Risk_Risk'] + (outputs < 0.5) * costs['Risk_No Risk']) +\n",
        "            (targets == 0) * custom_weight['No Risk'] *\n",
        "            ((outputs >= 0.5) * costs['No Risk_Risk'] + (outputs < 0.5) * costs['No Risk_No Risk'])\n",
        "        )\n",
        "\n",
        "        loss = weight_matrix * base_loss\n",
        "        return loss.mean()\n",
        "\n",
        "class proportionWeightedLoss(nn.Module):\n",
        "    def __init__(self):\n",
        "        super(proportionWeightedLoss, self).__init__()\n",
        "        self.bce = nn.BCELoss(reduction='none')  # Compute BCE loss without reduction\n",
        "\n",
        "    def forward(self, outputs, targets):\n",
        "        outputs = torch.clamp(outputs, 1e-7, 1 - 1e-7)  # Avoid log(0) issues\n",
        "\n",
        "        # Define custom weight proportions\n",
        "        real_prop = {'Risk': 0.02, 'No Risk': 0.98}\n",
        "        train_prop = {'Risk': 1/3, 'No Risk': 2/3}\n",
        "        custom_weight = {\n",
        "            'Risk': real_prop['Risk'] / train_prop['Risk'],\n",
        "            'No Risk': real_prop['No Risk'] / train_prop['No Risk']\n",
        "        }\n",
        "\n",
        "        # Compute weighted BCE loss\n",
        "        weights = (targets * custom_weight['Risk']) + ((1 - targets) * custom_weight['No Risk'])\n",
        "        loss = self.bce(outputs, targets) * weights\n",
        "\n",
        "        return loss.mean()\n"
      ],
      "metadata": {
        "id": "FYYyYqreFWwl"
      },
      "execution_count": 98,
      "outputs": []
    },
    {
      "cell_type": "code",
      "source": [
        "# Model setup\n",
        "model = BinaryClassifier(input_dim=X_train.shape[1])\n",
        "criterion = LoanWeightedLoss()\n",
        "#criterion = nn.BCELoss()\n",
        "#criterion = proportionWeightedLoss()\n",
        "optimizer = optim.Adam(model.parameters(), lr=0.01)\n",
        "\n",
        "def train_model(model, train_loader, criterion, optimizer, epochs=10):\n",
        "    model.train()\n",
        "    for epoch in range(epochs):\n",
        "        total_loss = 0\n",
        "        for X_batch, y_batch, loan_amounts in train_loader:\n",
        "            optimizer.zero_grad()\n",
        "            outputs = model(X_batch)\n",
        "            loss = criterion(outputs, y_batch,\n",
        "                             loan_amounts\n",
        "                             )\n",
        "            loss.backward()\n",
        "            optimizer.step()\n",
        "            total_loss += loss.item()\n",
        "        print(f\"Epoch {epoch+1}/{epochs}, Loss: {total_loss/len(train_loader):.4f}\")\n",
        "\n",
        "def evaluate_model(model, test_loader):\n",
        "    model.eval()\n",
        "    correct, total = 0, 0\n",
        "    with torch.no_grad():\n",
        "        for X_batch, y_batch, loan_amounts in test_loader:\n",
        "            outputs = model(X_batch)\n",
        "            predicted = (outputs > 0.5).float()\n",
        "            total += y_batch.size(0)\n",
        "            correct += (predicted == y_batch).sum().item()\n",
        "    print(f\"Test Accuracy: {100 * correct / total:.2f}%\")\n",
        "\n",
        "# Train and evaluate\n",
        "train_model(model, train_loader, criterion, optimizer, epochs=100)\n",
        "evaluate_model(model, test_loader)\n"
      ],
      "metadata": {
        "colab": {
          "base_uri": "https://localhost:8080/"
        },
        "id": "9-KqfbrSGZBw",
        "outputId": "75d68f7f-ab1a-4b60-f392-fdfcb352d33f"
      },
      "execution_count": 99,
      "outputs": [
        {
          "output_type": "stream",
          "name": "stdout",
          "text": [
            "Epoch 1/100, Loss: 0.2929\n",
            "Epoch 2/100, Loss: 0.2536\n",
            "Epoch 3/100, Loss: 0.2455\n",
            "Epoch 4/100, Loss: 0.2310\n",
            "Epoch 5/100, Loss: 0.2209\n",
            "Epoch 6/100, Loss: 0.2188\n",
            "Epoch 7/100, Loss: 0.2174\n",
            "Epoch 8/100, Loss: 0.2125\n",
            "Epoch 9/100, Loss: 0.2160\n",
            "Epoch 10/100, Loss: 0.2110\n",
            "Epoch 11/100, Loss: 0.2104\n",
            "Epoch 12/100, Loss: 0.2077\n",
            "Epoch 13/100, Loss: 0.2142\n",
            "Epoch 14/100, Loss: 0.2064\n",
            "Epoch 15/100, Loss: 0.2051\n",
            "Epoch 16/100, Loss: 0.1984\n",
            "Epoch 17/100, Loss: 0.2012\n",
            "Epoch 18/100, Loss: 0.1980\n",
            "Epoch 19/100, Loss: 0.1971\n",
            "Epoch 20/100, Loss: 0.1918\n",
            "Epoch 21/100, Loss: 0.1970\n",
            "Epoch 22/100, Loss: 0.1894\n",
            "Epoch 23/100, Loss: 0.1850\n",
            "Epoch 24/100, Loss: 0.1867\n",
            "Epoch 25/100, Loss: 0.1881\n",
            "Epoch 26/100, Loss: 0.1777\n",
            "Epoch 27/100, Loss: 0.1815\n",
            "Epoch 28/100, Loss: 0.1757\n",
            "Epoch 29/100, Loss: 0.1730\n",
            "Epoch 30/100, Loss: 0.1712\n",
            "Epoch 31/100, Loss: 0.1763\n",
            "Epoch 32/100, Loss: 0.1656\n",
            "Epoch 33/100, Loss: 0.1741\n",
            "Epoch 34/100, Loss: 0.1657\n",
            "Epoch 35/100, Loss: 0.1607\n",
            "Epoch 36/100, Loss: 0.1650\n",
            "Epoch 37/100, Loss: 0.1634\n",
            "Epoch 38/100, Loss: 0.1635\n",
            "Epoch 39/100, Loss: 0.1597\n",
            "Epoch 40/100, Loss: 0.1556\n",
            "Epoch 41/100, Loss: 0.1576\n",
            "Epoch 42/100, Loss: 0.1549\n",
            "Epoch 43/100, Loss: 0.1486\n",
            "Epoch 44/100, Loss: 0.1465\n",
            "Epoch 45/100, Loss: 0.1485\n",
            "Epoch 46/100, Loss: 0.1511\n",
            "Epoch 47/100, Loss: 0.1439\n",
            "Epoch 48/100, Loss: 0.1511\n",
            "Epoch 49/100, Loss: 0.1455\n",
            "Epoch 50/100, Loss: 0.1459\n",
            "Epoch 51/100, Loss: 0.1413\n",
            "Epoch 52/100, Loss: 0.1371\n",
            "Epoch 53/100, Loss: 0.1344\n",
            "Epoch 54/100, Loss: 0.1295\n",
            "Epoch 55/100, Loss: 0.1360\n",
            "Epoch 56/100, Loss: 0.1419\n",
            "Epoch 57/100, Loss: 0.1330\n",
            "Epoch 58/100, Loss: 0.1394\n",
            "Epoch 59/100, Loss: 0.1336\n",
            "Epoch 60/100, Loss: 0.1333\n",
            "Epoch 61/100, Loss: 0.1346\n",
            "Epoch 62/100, Loss: 0.1274\n",
            "Epoch 63/100, Loss: 0.1299\n",
            "Epoch 64/100, Loss: 0.1286\n",
            "Epoch 65/100, Loss: 0.1214\n",
            "Epoch 66/100, Loss: 0.1361\n",
            "Epoch 67/100, Loss: 0.1368\n",
            "Epoch 68/100, Loss: 0.1312\n",
            "Epoch 69/100, Loss: 0.1252\n",
            "Epoch 70/100, Loss: 0.1257\n",
            "Epoch 71/100, Loss: 0.1310\n",
            "Epoch 72/100, Loss: 0.1267\n",
            "Epoch 73/100, Loss: 0.1197\n",
            "Epoch 74/100, Loss: 0.1359\n",
            "Epoch 75/100, Loss: 0.1245\n",
            "Epoch 76/100, Loss: 0.1169\n",
            "Epoch 77/100, Loss: 0.1176\n",
            "Epoch 78/100, Loss: 0.1329\n",
            "Epoch 79/100, Loss: 0.1191\n",
            "Epoch 80/100, Loss: 0.1192\n",
            "Epoch 81/100, Loss: 0.1148\n",
            "Epoch 82/100, Loss: 0.1222\n",
            "Epoch 83/100, Loss: 0.1191\n",
            "Epoch 84/100, Loss: 0.1220\n",
            "Epoch 85/100, Loss: 0.1189\n",
            "Epoch 86/100, Loss: 0.1217\n",
            "Epoch 87/100, Loss: 0.1234\n",
            "Epoch 88/100, Loss: 0.1242\n",
            "Epoch 89/100, Loss: 0.1226\n",
            "Epoch 90/100, Loss: 0.1170\n",
            "Epoch 91/100, Loss: 0.1152\n",
            "Epoch 92/100, Loss: 0.1108\n",
            "Epoch 93/100, Loss: 0.1044\n",
            "Epoch 94/100, Loss: 0.1126\n",
            "Epoch 95/100, Loss: 0.1139\n",
            "Epoch 96/100, Loss: 0.1281\n",
            "Epoch 97/100, Loss: 0.1195\n",
            "Epoch 98/100, Loss: 0.1144\n",
            "Epoch 99/100, Loss: 0.1096\n",
            "Epoch 100/100, Loss: 0.1167\n",
            "Test Accuracy: 64.00%\n"
          ]
        }
      ]
    },
    {
      "cell_type": "code",
      "source": [
        "# prompt: open the german credit test file, and run the model above on it. make sure to use the loan amounts separately\n",
        "\n",
        "import pandas as pd\n",
        "import numpy as np\n",
        "# Load the German Credit test dataset\n",
        "df_test = pd.read_csv('german_credit_test.csv')\n",
        "\n",
        "# Separate loan amounts for the test set\n",
        "loan_amounts_test_new = np.array(df_test['LoanAmount'])\n",
        "\n",
        "# Preprocess the test data using the same preprocessor fitted on the training data\n",
        "X_test_new = preprocessor.transform(df_test)\n",
        "\n",
        "# Create a PyTorch Dataset for the test data\n",
        "test_dataset_new = CustomDataset(X_test_new, np.zeros(len(X_test_new)), loan_amounts_test_new) # Placeholder for y_test, as it's not used in evaluation.\n",
        "test_loader_new = DataLoader(test_dataset_new, batch_size=32, shuffle=False)\n",
        "\n",
        "# Evaluate the model on the new test data\n",
        "def predict_on_test_data(model, test_loader):\n",
        "    model.eval()\n",
        "    predictions = []\n",
        "    with torch.no_grad():\n",
        "        for X_batch, _, loan_amounts in test_loader:\n",
        "            outputs = model(X_batch)\n",
        "            predicted = (outputs > 0.5).int().tolist()\n",
        "            predictions.append(predicted)\n",
        "    return predictions\n",
        "def flatten_list(nested_list):\n",
        "    flat_list = []\n",
        "    for item in nested_list:\n",
        "        if isinstance(item, list):\n",
        "            flat_list.extend(flatten_list(item))  # Recursively flatten\n",
        "        else:\n",
        "            flat_list.append(item)\n",
        "    return flat_list\n",
        "# Make predictions on the new test data\n",
        "predictions = predict_on_test_data(model, test_loader_new)\n",
        "predictions = flatten_list(predictions)"
      ],
      "metadata": {
        "id": "tnYIaVXwGzMU"
      },
      "execution_count": 86,
      "outputs": []
    },
    {
      "cell_type": "code",
      "source": [
        "# Optionally save predictions to a file\n",
        "predictions_df = pd.DataFrame({\n",
        "    'Id': df_test.index,\n",
        "    'Risk': predictions}\n",
        "                              )\n",
        "predictions_df.to_csv('german_credit_test_predictions.csv', index=False)\n",
        "predictions_df.Risk.value_counts()"
      ],
      "metadata": {
        "colab": {
          "base_uri": "https://localhost:8080/",
          "height": 147
        },
        "id": "Bhj-aBZ_HI-7",
        "outputId": "5726dca4-a151-4aec-f547-d9eb362f12e2"
      },
      "execution_count": 87,
      "outputs": [
        {
          "output_type": "execute_result",
          "data": {
            "text/plain": [
              "Risk\n",
              "1    1001\n",
              "Name: count, dtype: int64"
            ],
            "text/html": [
              "<div>\n",
              "<style scoped>\n",
              "    .dataframe tbody tr th:only-of-type {\n",
              "        vertical-align: middle;\n",
              "    }\n",
              "\n",
              "    .dataframe tbody tr th {\n",
              "        vertical-align: top;\n",
              "    }\n",
              "\n",
              "    .dataframe thead th {\n",
              "        text-align: right;\n",
              "    }\n",
              "</style>\n",
              "<table border=\"1\" class=\"dataframe\">\n",
              "  <thead>\n",
              "    <tr style=\"text-align: right;\">\n",
              "      <th></th>\n",
              "      <th>count</th>\n",
              "    </tr>\n",
              "    <tr>\n",
              "      <th>Risk</th>\n",
              "      <th></th>\n",
              "    </tr>\n",
              "  </thead>\n",
              "  <tbody>\n",
              "    <tr>\n",
              "      <th>1</th>\n",
              "      <td>1001</td>\n",
              "    </tr>\n",
              "  </tbody>\n",
              "</table>\n",
              "</div><br><label><b>dtype:</b> int64</label>"
            ]
          },
          "metadata": {},
          "execution_count": 87
        }
      ]
    },
    {
      "cell_type": "code",
      "source": [
        "le = LabelEncoder()\n",
        "le.fit(df['Risk'])\n",
        "y_pred_final_labels = le.inverse_transform(predictions)\n",
        "\n",
        "\n",
        "# Optionally save predictions to a file\n",
        "predictions_df = pd.DataFrame({\n",
        "    'Id': df_test.index,\n",
        "    'Risk': y_pred_final_labels # Use 'TARGET' as column name\n",
        "})\n",
        "#print(predictions_df['TARGET'].value_counts())\n",
        "predictions_df.to_csv('german_credit_test_predictions.csv', index=False)"
      ],
      "metadata": {
        "id": "UOidvzd2KNxs"
      },
      "execution_count": 88,
      "outputs": []
    },
    {
      "cell_type": "code",
      "source": [
        "predictions_df.Risk.value_counts()"
      ],
      "metadata": {
        "colab": {
          "base_uri": "https://localhost:8080/",
          "height": 147
        },
        "id": "pKKKEa8eLGnj",
        "outputId": "0650b5cb-498c-476d-f9c5-52078931dedd"
      },
      "execution_count": 89,
      "outputs": [
        {
          "output_type": "execute_result",
          "data": {
            "text/plain": [
              "Risk\n",
              "Risk    1001\n",
              "Name: count, dtype: int64"
            ],
            "text/html": [
              "<div>\n",
              "<style scoped>\n",
              "    .dataframe tbody tr th:only-of-type {\n",
              "        vertical-align: middle;\n",
              "    }\n",
              "\n",
              "    .dataframe tbody tr th {\n",
              "        vertical-align: top;\n",
              "    }\n",
              "\n",
              "    .dataframe thead th {\n",
              "        text-align: right;\n",
              "    }\n",
              "</style>\n",
              "<table border=\"1\" class=\"dataframe\">\n",
              "  <thead>\n",
              "    <tr style=\"text-align: right;\">\n",
              "      <th></th>\n",
              "      <th>count</th>\n",
              "    </tr>\n",
              "    <tr>\n",
              "      <th>Risk</th>\n",
              "      <th></th>\n",
              "    </tr>\n",
              "  </thead>\n",
              "  <tbody>\n",
              "    <tr>\n",
              "      <th>Risk</th>\n",
              "      <td>1001</td>\n",
              "    </tr>\n",
              "  </tbody>\n",
              "</table>\n",
              "</div><br><label><b>dtype:</b> int64</label>"
            ]
          },
          "metadata": {},
          "execution_count": 89
        }
      ]
    },
    {
      "cell_type": "code",
      "source": [],
      "metadata": {
        "id": "XxHf-ExgLIqB"
      },
      "execution_count": null,
      "outputs": []
    }
  ]
}