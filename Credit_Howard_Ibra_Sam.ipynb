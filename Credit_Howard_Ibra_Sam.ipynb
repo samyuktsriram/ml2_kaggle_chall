{
  "cells": [
    {
      "cell_type": "code",
      "execution_count": 1,
      "metadata": {
        "colab": {
          "base_uri": "https://localhost:8080/"
        },
        "id": "A0xrGmcIASpu",
        "outputId": "9f062e54-65c1-40d4-82ca-ec3f0577ec0c"
      },
      "outputs": [
        {
          "name": "stdout",
          "output_type": "stream",
          "text": [
            "Archive:  dsb-24-german-credit.zip\n",
            "  inflating: german_credit_test.csv  \n",
            "  inflating: german_credit_test_submission.csv  \n",
            "  inflating: german_credit_train.csv  \n"
          ]
        }
      ],
      "source": [
        "!unzip dsb-24-german-credit.zip"
      ]
    },
    {
      "cell_type": "code",
      "execution_count": 19,
      "metadata": {
        "colab": {
          "base_uri": "https://localhost:8080/"
        },
        "id": "JIHG_3VqAcP4",
        "outputId": "e28a2029-18d4-459a-c1da-022b1bf96b69"
      },
      "outputs": [
        {
          "name": "stdout",
          "output_type": "stream",
          "text": [
            "Unique values in column 'CheckingStatus':\n",
            "['0_to_200' 'less_0' 'no_checking' 'greater_200']\n",
            "4\n",
            "--------------------\n",
            "Unique values in column 'LoanDuration':\n",
            "[31 18 15 28 32 16 11 35  9 27 29  4 33 13 34 23 10 25 26  7 64  6 19 39\n",
            " 17 38  8 30 22 20 14 12 50 41 36 24 37  5 43 48 46 21 44 40 45 53 42 61\n",
            " 51 63 47 49 60 56 62 52 54]\n",
            "57\n",
            "--------------------\n",
            "Unique values in column 'CreditHistory':\n",
            "['credits_paid_to_date' 'prior_payments_delayed' 'outstanding_credit'\n",
            " 'all_credits_paid_back' 'no_credits']\n",
            "5\n",
            "--------------------\n",
            "Unique values in column 'LoanPurpose':\n",
            "['other' 'car_new' 'furniture' 'retraining' 'education' 'vacation'\n",
            " 'appliances' 'car_used' 'radio_tv' 'repairs' 'business']\n",
            "11\n",
            "--------------------\n",
            "Unique values in column 'LoanAmount':\n",
            "[1889  462  250 ... 6536 1597 4152]\n",
            "2794\n",
            "--------------------\n",
            "Unique values in column 'ExistingSavings':\n",
            "['100_to_500' 'less_100' '500_to_1000' 'unknown' 'greater_1000']\n",
            "5\n",
            "--------------------\n",
            "Unique values in column 'EmploymentDuration':\n",
            "['less_1' '1_to_4' 'greater_7' '4_to_7' 'unemployed']\n",
            "5\n",
            "--------------------\n",
            "Unique values in column 'InstallmentPercent':\n",
            "[3 2 6 5 4 1]\n",
            "6\n",
            "--------------------\n",
            "Unique values in column 'Sex':\n",
            "['female' 'male']\n",
            "2\n",
            "--------------------\n",
            "Unique values in column 'OthersOnLoan':\n",
            "['none' 'co-applicant' 'guarantor']\n",
            "3\n",
            "--------------------\n",
            "Unique values in column 'CurrentResidenceDuration':\n",
            "[3 2 5 1 4 6]\n",
            "6\n",
            "--------------------\n",
            "Unique values in column 'OwnsProperty':\n",
            "['savings_insurance' 'real_estate' 'unknown' 'car_other']\n",
            "4\n",
            "--------------------\n",
            "Unique values in column 'Age':\n",
            "[32 37 28 57 36 22 49 34 40 44 52 35 26 27 24 19 51 38 46 39 31 29 45 25\n",
            " 59 55 42 33 20 50 30 47 53 43 48 23 41 56 54 21 62 58 65 66 60 70 63 71\n",
            " 67 61 64 74]\n",
            "52\n",
            "--------------------\n",
            "Unique values in column 'InstallmentPlans':\n",
            "['none' 'stores' 'bank']\n",
            "3\n",
            "--------------------\n",
            "Unique values in column 'Housing':\n",
            "['own' 'free' 'rent']\n",
            "3\n",
            "--------------------\n",
            "Unique values in column 'ExistingCreditsCount':\n",
            "[1 2 3]\n",
            "3\n",
            "--------------------\n",
            "Unique values in column 'Job':\n",
            "['skilled' 'management_self-employed' 'unskilled' 'unemployed']\n",
            "4\n",
            "--------------------\n",
            "Unique values in column 'Dependents':\n",
            "[1 2]\n",
            "2\n",
            "--------------------\n",
            "Unique values in column 'Telephone':\n",
            "['none' 'yes']\n",
            "2\n",
            "--------------------\n",
            "Unique values in column 'ForeignWorker':\n",
            "['yes' 'no']\n",
            "2\n",
            "--------------------\n",
            "Unique values in column 'Risk':\n",
            "['No Risk' 'Risk']\n",
            "2\n",
            "--------------------\n"
          ]
        }
      ],
      "source": [
        "# prompt: open the german credit train csv file into a dataframe, and for each column, show me the unique values\n",
        "\n",
        "import pandas as pd\n",
        "\n",
        "# Assuming the CSV file is named 'german_credit_train.csv' after unzipping\n",
        "try:\n",
        "    df = pd.read_csv('german_credit_train.csv')\n",
        "    for col in df.columns:\n",
        "        print(f\"Unique values in column '{col}':\")\n",
        "        print(df[col].unique())\n",
        "        print(len(df[col].unique()))\n",
        "        print(\"-\" * 20)\n",
        "except FileNotFoundError:\n",
        "    print(\"Error: 'german_credit_train.csv' not found. Please make sure the file exists and the name is correct.\")\n",
        "except Exception as e:\n",
        "    print(f\"An error occurred: {e}\")\n"
      ]
    },
    {
      "cell_type": "code",
      "execution_count": 20,
      "metadata": {
        "id": "IK1n_DT_Am5v"
      },
      "outputs": [],
      "source": [
        "numerical_cols = [\n",
        "    'LoanDuration',\n",
        "    'LoanAmount',\n",
        "    'InstallmentPercent',\n",
        "    'CurrentResidenceDuration',\n",
        "    'Age',\n",
        "    'ExistingCreditsCount',\n",
        "]\n",
        "categorical_cols = [\n",
        "  'CheckingStatus',\n",
        "  'CreditHistory',\n",
        " 'LoanPurpose',\n",
        " 'ExistingSavings',\n",
        " 'EmploymentDuration',\n",
        " 'Sex',\n",
        " 'OthersOnLoan',\n",
        " 'OwnsProperty',\n",
        " 'InstallmentPlans',\n",
        " 'Housing',\n",
        " 'Job',\n",
        " 'Dependents',\n",
        " 'Telephone',\n",
        " 'ForeignWorker',]"
      ]
    },
    {
      "cell_type": "code",
      "execution_count": 22,
      "metadata": {
        "colab": {
          "base_uri": "https://localhost:8080/",
          "height": 216
        },
        "id": "Q_dG1TznBqnU",
        "outputId": "580c7c14-3943-4c62-bf9b-fb82da971d1b"
      },
      "outputs": [
        {
          "name": "stdout",
          "output_type": "stream",
          "text": [
            "Accuracy: 0.7575\n",
            "Best parameters: {'model__learning_rate': 0.2, 'model__max_depth': 2, 'model__n_estimators': 700}\n"
          ]
        }
      ],
      "source": [
        "import pandas as pd\n",
        "import numpy as np\n",
        "from sklearn.model_selection import train_test_split, GridSearchCV\n",
        "from sklearn.preprocessing import StandardScaler, OneHotEncoder, LabelEncoder\n",
        "from sklearn.impute import SimpleImputer\n",
        "from sklearn.pipeline import Pipeline\n",
        "from sklearn.compose import ColumnTransformer\n",
        "from xgboost import XGBClassifier, XGBRegressor\n",
        "from sklearn.metrics import accuracy_score, mean_squared_error\n",
        "\n",
        "# Load dataset (replace with actual data)\n",
        "\n",
        "# Define target and features\n",
        "target = \"Risk\"\n",
        "X = df.drop(columns=[target])\n",
        "y = df[target]\n",
        "\n",
        "# Binary encode target variable if classification\n",
        "y = LabelEncoder().fit_transform(y) if y.nunique() == 2 else y\n",
        "\n",
        "# Identify categorical and numerical columns\n",
        "cat_cols = categorical_cols\n",
        "num_cols = numerical_cols\n",
        "\n",
        "# Preprocessing for numerical data\n",
        "num_transformer = Pipeline([\n",
        "    #('imputer', SimpleImputer(strategy='mean')),\n",
        "    ('scaler', StandardScaler())\n",
        "])\n",
        "\n",
        "# Preprocessing for categorical data\n",
        "cat_transformer = Pipeline([\n",
        "    #('imputer', SimpleImputer(strategy='most_frequent')),\n",
        "    ('onehot', OneHotEncoder(handle_unknown='ignore'))\n",
        "])\n",
        "\n",
        "# Combine preprocessors in a column transformer\n",
        "preprocessor = ColumnTransformer([\n",
        "    ('num', num_transformer, num_cols),\n",
        "    ('cat', cat_transformer, cat_cols)\n",
        "])\n",
        "\n",
        "# Choose model type (classification or regression)\n",
        "model = XGBClassifier(use_label_encoder=False, eval_metric='logloss', )\n",
        "\n",
        "# Create full pipeline\n",
        "pipeline = Pipeline([\n",
        "    ('preprocessor', preprocessor),\n",
        "    ('model', model)\n",
        "])\n",
        "\n",
        "# Split data\n",
        "X_train, X_test, y_train, y_test = train_test_split(X, y, test_size=0.2, random_state=42)\n",
        "\n",
        "#this can be a way to find the right balance.\n",
        "class_weights = {0: 0.8, 1: 0.2}\n",
        "sample_weights = [class_weights[label] for label in y_train]\n",
        "\n",
        "\n",
        "# Define parameter grid for hyperparameter tuning\n",
        "param_grid = {\n",
        "    'model__n_estimators': [400, 500, 600, 700, 800],\n",
        "    'model__max_depth': [2, 3, 5, 7],\n",
        "    'model__learning_rate': [0.005, 0.01, 0.1, 0.2]\n",
        "}\n",
        "\n",
        "# Perform grid search - custom scoring loss function here?\n",
        "search = GridSearchCV(pipeline, param_grid, cv=3, scoring='accuracy', n_jobs=-1)\n",
        "search.fit(X_train, y_train,\n",
        "           model__sample_weight=sample_weights\n",
        "           )\n",
        "\n",
        "# Evaluate model\n",
        "y_pred = search.best_estimator_.predict(X_test)\n",
        "score = accuracy_score(y_test, y_pred)\n",
        "print(f\"Accuracy: {score:.4f}\")\n",
        "\n",
        "# Best parameters\n",
        "print(\"Best parameters:\", search.best_params_)\n"
      ]
    },
    {
      "cell_type": "code",
      "execution_count": null,
      "metadata": {
        "id": "wOtvHlp1CQgG"
      },
      "outputs": [],
      "source": [
        "# prompt: open the german credit test.csv, and use the above gridsearch model + preprocessing pipeline to generate predictions the test.csv\n",
        "\n",
        "import pandas as pd\n",
        "import numpy as np\n",
        "from sklearn.model_selection import train_test_split, GridSearchCV\n",
        "from sklearn.preprocessing import StandardScaler, OneHotEncoder, LabelEncoder\n",
        "from sklearn.impute import SimpleImputer\n",
        "from sklearn.pipeline import Pipeline\n",
        "from sklearn.compose import ColumnTransformer\n",
        "from xgboost import XGBClassifier, XGBRegressor\n",
        "from sklearn.metrics import accuracy_score, mean_squared_error\n",
        "\n",
        "\n",
        "# Load the test dataset\n",
        "try:\n",
        "    test_df = pd.read_csv('german_credit_test.csv')\n",
        "except FileNotFoundError:\n",
        "    print(\"Error: 'german_credit_test.csv' not found. Please make sure the file exists and the name is correct.\")\n",
        "    exit() # Exit the script if the file is not found\n",
        "except Exception as e:\n",
        "    print(f\"An error occurred while loading the test data: {e}\")\n",
        "    exit()\n",
        "\n",
        "# Assuming you have already defined the following from the previous code block:\n",
        "# numerical_cols, categorical_cols, target, preprocessor, model, pipeline, search (with the fitted model)\n",
        "\n",
        "# Prepare the test data\n",
        "X_test_final = test_df.drop(columns=[target], errors='ignore') # Drop target column if it exists\n",
        "\n",
        "# Generate predictions\n",
        "y_pred_final = search.best_estimator_.predict(X_test_final)\n",
        "\n",
        "\n",
        "# Optionally save predictions to a file\n",
        "predictions_df = pd.DataFrame({\n",
        "    'Id': test_df.index,\n",
        "    'Risk': y_pred_final}\n",
        "                              )\n",
        "# predictions_df.to_csv('german_credit_test_predictions.csv', index=False)\n"
      ]
    },
    {
      "cell_type": "code",
      "execution_count": 24,
      "metadata": {
        "colab": {
          "base_uri": "https://localhost:8080/",
          "height": 178
        },
        "id": "w_6vljZ-6St6",
        "outputId": "76a20b34-3389-496e-bc57-0483bdce0750"
      },
      "outputs": [
        {
          "data": {
            "text/plain": [
              "Risk\n",
              "0    819\n",
              "1    182\n",
              "Name: count, dtype: int64"
            ]
          },
          "execution_count": 24,
          "metadata": {},
          "output_type": "execute_result"
        }
      ],
      "source": [
        "predictions_df.Risk.value_counts()"
      ]
    },
    {
      "cell_type": "code",
      "execution_count": 25,
      "metadata": {
        "id": "vOinWkjjDn-z"
      },
      "outputs": [],
      "source": [
        "# prompt: Id,TARGET\n",
        "# 1, \"Risk\"\n",
        "# 2, \"No Risk\"\n",
        "# 3, \"Risk\"\n",
        "# etc.\n",
        "# is the format of the predictions df that i need.\n",
        "\n",
        "import pandas as pd\n",
        "# ... (Your existing code)\n",
        "\n",
        "# Inverse transform the predictions if necessary\n",
        "le = LabelEncoder()\n",
        "le.fit(df['Risk'])\n",
        "y_pred_final_labels = le.inverse_transform(y_pred_final)\n",
        "\n",
        "\n",
        "# Optionally save predictions to a file\n",
        "predictions_df = pd.DataFrame({\n",
        "    'Id': test_df.index,\n",
        "    'Risk': y_pred_final_labels # Use 'TARGET' as column name\n",
        "})\n",
        "#print(predictions_df['TARGET'].value_counts())\n",
        "predictions_df.to_csv('german_credit_test_predictions.csv', index=False)\n"
      ]
    },
    {
      "cell_type": "code",
      "execution_count": 26,
      "metadata": {
        "colab": {
          "base_uri": "https://localhost:8080/",
          "height": 178
        },
        "id": "qqlz90KpK4ej",
        "outputId": "52dd241d-bfe0-4b0d-f8d2-65eb1c14e633"
      },
      "outputs": [
        {
          "data": {
            "text/plain": [
              "Risk\n",
              "No Risk    819\n",
              "Risk       182\n",
              "Name: count, dtype: int64"
            ]
          },
          "execution_count": 26,
          "metadata": {},
          "output_type": "execute_result"
        }
      ],
      "source": [
        "predictions_df.Risk.value_counts()"
      ]
    }
  ],
  "metadata": {
    "colab": {
      "provenance": []
    },
    "kernelspec": {
      "display_name": "mlenv",
      "language": "python",
      "name": "python3"
    },
    "language_info": {
      "codemirror_mode": {
        "name": "ipython",
        "version": 3
      },
      "file_extension": ".py",
      "mimetype": "text/x-python",
      "name": "python",
      "nbconvert_exporter": "python",
      "pygments_lexer": "ipython3",
      "version": "3.12.8"
    }
  },
  "nbformat": 4,
  "nbformat_minor": 0
}
